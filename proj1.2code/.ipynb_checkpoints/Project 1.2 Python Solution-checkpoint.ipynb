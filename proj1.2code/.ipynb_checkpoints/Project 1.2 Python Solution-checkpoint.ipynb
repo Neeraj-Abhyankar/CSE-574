{
 "cells": [
  {
   "cell_type": "code",
   "execution_count": 112,
   "metadata": {},
   "outputs": [],
   "source": [
    "from sklearn.cluster import KMeans #import clustering from sklearn.cluster using KMeans\n",
    "import numpy as np #import numpy library as np\n",
    "import csv #import csv import and export format for spreadsheets and databases\n",
    "import math #import math library \n",
    "import matplotlib.pyplot #import pythons math plot library\n",
    "from matplotlib import pyplot as plt #import plot from math plot library "
   ]
  },
  {
   "cell_type": "code",
   "execution_count": 113,
   "metadata": {},
   "outputs": [],
   "source": [
    "maxAcc = 0.0 #define Max Accurary = 0.0 \n",
    "maxIter = 0 #define Max Iterations = 0\n",
    "C_Lambda = 0.03 #define Lambda = 0.03\n",
    "TrainingPercent = 80 #define Training Data Set % = 80\n",
    "ValidationPercent = 10 #define Validation Data Set % = 10\n",
    "TestPercent = 10 #define Test Data Set % = 10 \n",
    "M = 10 #define number of M Basis Functions = 10\n",
    "PHI = [] #define PHI as an Array \n",
    "IsSynthetic = False #set IsSynthetic value as False"
   ]
  },
  {
   "cell_type": "code",
   "execution_count": 114,
   "metadata": {},
   "outputs": [],
   "source": [
    "def GetTargetVector(filePath): #define GetTarget Vector code block with source filePath\n",
    "    t = [] #define target vector array\n",
    "    with open(filePath, 'rU') as f: #open or set directory for the source filePath as f\n",
    "        reader = csv.reader(f) #open filePath defined as f in csv reader \n",
    "        for row in reader: #from the filepath access rows \n",
    "            t.append(int(row[0])) #append row values to target array\n",
    "    return t #return the values to target dataset t\n",
    "\n",
    "def GenerateRawData(filePath, IsSynthetic): #define GenerateRawData with source filePath and IsSynthetic value set as False    \n",
    "    dataMatrix = [] #define dataMatrix as an array to store values\n",
    "    with open(filePath, 'rU') as fi: #open or set directory for the source filePath as fi\n",
    "        reader = csv.reader(fi) #open filePath defined as fi in csv reader\n",
    "        for row in reader: #from the filepath access rows\n",
    "            dataRow = [] #dataRow array saves the values\n",
    "            for column in row: #for every column in datarow\n",
    "                dataRow.append(float(column)) #append the value of dataRow as float\n",
    "            dataMatrix.append(dataRow) #append the dataRow matrix in dataMatrix   \n",
    "    \n",
    "    if IsSynthetic == False : \n",
    "        dataMatrix = np.delete(dataMatrix, [5,6,7,8,9], axis=1) # delete array elements from dataMatrix \n",
    "    dataMatrix = np.transpose(dataMatrix) # take the transpose of the dataMatrix     \n",
    "    return dataMatrix #return the dataMatrix which was transposed in above line\n",
    "\n",
    "def GenerateTrainingTarget(rawTraining,TrainingPercent = 80): #define GenerateTrainingTarget data with data and percentage\n",
    "    TrainingLen = int(math.ceil(len(rawTraining)*(TrainingPercent*0.01))) #covert to float and put the values in TrainingLen\n",
    "    t           = rawTraining[:TrainingLen] #put the values of rawTraining set into target vector array t\n",
    "    #print(str(TrainingPercent) + \"% Training Target Generated..\")\n",
    "    return t #return new target vector array t\n",
    "\n",
    "def GenerateTrainingDataMatrix(rawData, TrainingPercent = 80): #define GenerateTrainingDataMatrix with rawData and percentage\n",
    "    T_len = int(math.ceil(len(rawData[0])*0.01*TrainingPercent))#covert to float and put the values in T_Len\n",
    "    d2 = rawData[:,0:T_len] #put values in d2 \n",
    "    return d2 #return d2 with changes\n",
    "\n",
    "def GenerateValData(rawData, ValPercent, TrainingCount): #define GenerateValData with rawData, TrainingCount and ValPercent \n",
    "    valSize = int(math.ceil(len(rawData[0])*ValPercent*0.01)) #calculate val_size with float values\n",
    "    V_End = TrainingCount + valSize \n",
    "    dataMatrix = rawData[:,TrainingCount+1:V_End] #update the dataMatrix with new values \n",
    "    return dataMatrix #return the updated dataMatrix\n",
    "\n",
    "def GenerateValTargetVector(rawData, ValPercent, TrainingCount): #define GenerateValTargetVector for taget vectors \n",
    "    valSize = int(math.ceil(len(rawData)*ValPercent*0.01)) #calculate val_size with float values\n",
    "    V_End = TrainingCount + valSize\n",
    "    t =rawData[TrainingCount+1:V_End] #update the target Vector values with new values\n",
    "    return t #return the updated array t\n",
    "\n",
    "def GenerateBigSigma(Data, MuMatrix,TrainingPercent,IsSynthetic): #define GenerateBigSigma for traning Vectors\n",
    "    BigSigma    = np.zeros((len(Data),len(Data))) #BigSigma takes the values of the Data\n",
    "    DataT       = np.transpose(Data) #take the transpose of the Data Matrix \n",
    "    TrainingLen = math.ceil(len(DataT)*(TrainingPercent*0.01)) #calculate Training Lenth with float values       \n",
    "    varVect     = [] \n",
    "    for i in range(0,len(DataT[0])): #iterate the values for tranpose data range\n",
    "        vct = []\n",
    "        for j in range(0,int(TrainingLen)): #iterate the values for TrainingLen range\n",
    "            vct.append(Data[i][j]) #append the values in array vct \n",
    "        varVect.append(np.var(vct)) #append the values in array varVect\n",
    "    \n",
    "    for j in range(len(Data)): #iterate the values for data range\n",
    "        BigSigma[j][j] = varVect[j]\n",
    "    if IsSynthetic == True: #if value True\n",
    "        BigSigma = np.dot(3,BigSigma) #calculate BigSigma\n",
    "    else: #if value False\n",
    "        BigSigma = np.dot(200,BigSigma) #calculate BigSigma\n",
    "    return BigSigma #return the updated value of the BigSigma\n",
    "\n",
    "def GetScalar(DataRow,MuRow, BigSigInv): #define the GetScalar\n",
    "    R = np.subtract(DataRow,MuRow) #calculate R\n",
    "    T = np.dot(BigSigInv,np.transpose(R)) #calculate T   \n",
    "    L = np.dot(R,T) #calculate L\n",
    "    return L #return the updated value of L \n",
    "\n",
    "def GetRadialBasisOut(DataRow,MuRow, BigSigInv): #define the RadialBasis function    \n",
    "    phi_x = math.exp(-0.5*GetScalar(DataRow,MuRow,BigSigInv)) \n",
    "    return phi_x #return the update value of phi_x\n",
    "\n",
    "def GetPhiMatrix(Data, MuMatrix, BigSigma, TrainingPercent = 80): #define the Phi Matrix \n",
    "    DataT = np.transpose(Data) #take the transpose of DataT matrix\n",
    "    TrainingLen = math.ceil(len(DataT)*(TrainingPercent*0.01)) #calculate TraningLen with float values         \n",
    "    PHI = np.zeros((int(TrainingLen),len(MuMatrix))) #take the required PHI values\n",
    "    BigSigInv = np.linalg.inv(BigSigma) #calculate the BigSigma inverse value\n",
    "    for  C in range(0,len(MuMatrix)):\n",
    "        for R in range(0,int(TrainingLen)):\n",
    "            PHI[R][C] = GetRadialBasisOut(DataT[R], MuMatrix[C], BigSigInv) #calculate the PHI values\n",
    "    return PHI #return updated PHI values\n",
    "\n",
    "def GetWeightsClosedForm(PHI, T, Lambda): #define the GetWeightsCLosedForm\n",
    "    Lambda_I = np.identity(len(PHI[0])) #Lamda_I = identity matrix of PHI\n",
    "    for i in range(0,len(PHI[0])):\n",
    "        Lambda_I[i][i] = Lambda\n",
    "    PHI_T       = np.transpose(PHI) #calculate phi transpose\n",
    "    PHI_SQR     = np.dot(PHI_T,PHI) #calculate phiT.phi\n",
    "    PHI_SQR_LI  = np.add(Lambda_I,PHI_SQR)#calculate lambda + phiT.phi\n",
    "    PHI_SQR_INV = np.linalg.inv(PHI_SQR_LI) #calculate phi inverse\n",
    "    INTER       = np.dot(PHI_SQR_INV, PHI_T) #calculate dot product of phi inverse and transpose\n",
    "    W           = np.dot(INTER, T) #calculate w\n",
    "    return W #return the updated value of w\n",
    "\n",
    "def GetPhiMatrix(Data, MuMatrix, BigSigma, TrainingPercent = 80): #define the GetPhiMatrix\n",
    "    DataT = np.transpose(Data) #transpose of DataT\n",
    "    TrainingLen = math.ceil(len(DataT)*(TrainingPercent*0.01)) #calculate TraningLen with float values         \n",
    "    PHI = np.zeros((int(TrainingLen),len(MuMatrix))) #Phi matrix  \n",
    "    BigSigInv = np.linalg.inv(BigSigma) #calculate the BigSigma Inverse\n",
    "    for  C in range(0,len(MuMatrix)): \n",
    "        for R in range(0,int(TrainingLen)):\n",
    "            PHI[R][C] = GetRadialBasisOut(DataT[R], MuMatrix[C], BigSigInv) #for each range of Mu Matrix calculate phi\n",
    "    return PHI #return the updated values of Phi\n",
    "\n",
    "def GetValTest(VAL_PHI,W): #define GetValTest for validation\n",
    "    Y = np.dot(W,np.transpose(VAL_PHI)) #calculate W . ValPhi\n",
    "    return Y #return the update values of Y\n",
    "\n",
    "def GetErms(VAL_TEST_OUT,ValDataAct): #define the GetERMS block\n",
    "    sum = 0.0 #initialize sum = 0.0\n",
    "    t=0 #initialize t = 0 for target vectors\n",
    "    accuracy = 0.0 #initialize accuracy = 0.0\n",
    "    counter = 0 #initialize counter to 0\n",
    "    val = 0.0 #initialize val to 0\n",
    "    for i in range (0,len(VAL_TEST_OUT)): \n",
    "        sum = sum + math.pow((ValDataAct[i] - VAL_TEST_OUT[i]),2) #calculate the sum\n",
    "        if(int(np.around(VAL_TEST_OUT[i], 0)) == ValDataAct[i]):\n",
    "            counter+=1 #increment the counter\n",
    "    accuracy = (float((counter*100))/float(len(VAL_TEST_OUT))) #calculate the accuracy of the data\n",
    "    return (str(accuracy) + ',' +  str(math.sqrt(sum/len(VAL_TEST_OUT)))) # return the value of ERMS"
   ]
  },
  {
   "cell_type": "markdown",
   "metadata": {},
   "source": [
    "## Fetch and Prepare Dataset"
   ]
  },
  {
   "cell_type": "code",
   "execution_count": 115,
   "metadata": {},
   "outputs": [
    {
     "name": "stderr",
     "output_type": "stream",
     "text": [
      "C:\\Users\\NEERAJ\\AppData\\Local\\conda\\conda\\envs\\tensorflow\\lib\\site-packages\\ipykernel_launcher.py:3: DeprecationWarning: 'U' mode is deprecated\n",
      "  This is separate from the ipykernel package so we can avoid doing imports until\n",
      "C:\\Users\\NEERAJ\\AppData\\Local\\conda\\conda\\envs\\tensorflow\\lib\\site-packages\\ipykernel_launcher.py:11: DeprecationWarning: 'U' mode is deprecated\n",
      "  # This is added back by InteractiveShellApp.init_path()\n"
     ]
    }
   ],
   "source": [
    "RawTarget = GetTargetVector('Querylevelnorm_t.csv')\n",
    "RawData   = GenerateRawData('Querylevelnorm_X.csv',IsSynthetic)"
   ]
  },
  {
   "cell_type": "markdown",
   "metadata": {},
   "source": [
    "## Prepare Training Data"
   ]
  },
  {
   "cell_type": "code",
   "execution_count": 116,
   "metadata": {},
   "outputs": [
    {
     "name": "stdout",
     "output_type": "stream",
     "text": [
      "(55699,)\n",
      "(41, 55699)\n"
     ]
    }
   ],
   "source": [
    "TrainingTarget = np.array(GenerateTrainingTarget(RawTarget,TrainingPercent)) #give traning target data\n",
    "TrainingData   = GenerateTrainingDataMatrix(RawData,TrainingPercent) #give training data from matrix\n",
    "print(TrainingTarget.shape) \n",
    "print(TrainingData.shape)"
   ]
  },
  {
   "cell_type": "markdown",
   "metadata": {},
   "source": [
    "## Prepare Validation Data"
   ]
  },
  {
   "cell_type": "code",
   "execution_count": 117,
   "metadata": {},
   "outputs": [
    {
     "name": "stdout",
     "output_type": "stream",
     "text": [
      "(6962,)\n",
      "(41, 6962)\n"
     ]
    }
   ],
   "source": [
    "ValDataAct = np.array(GenerateValTargetVector(RawTarget,ValidationPercent, (len(TrainingTarget)))) \n",
    "ValData    = GenerateValData(RawData,ValidationPercent, (len(TrainingTarget))) #give the validation data with generated data\n",
    "print(ValDataAct.shape)\n",
    "print(ValData.shape)"
   ]
  },
  {
   "cell_type": "markdown",
   "metadata": {},
   "source": [
    "## Prepare Test Data"
   ]
  },
  {
   "cell_type": "code",
   "execution_count": 118,
   "metadata": {},
   "outputs": [
    {
     "name": "stdout",
     "output_type": "stream",
     "text": [
      "(6962,)\n",
      "(41, 6962)\n"
     ]
    }
   ],
   "source": [
    "TestDataAct = np.array(GenerateValTargetVector(RawTarget,TestPercent, (len(TrainingTarget)+len(ValDataAct))))\n",
    "TestData = GenerateValData(RawData,TestPercent, (len(TrainingTarget)+len(ValDataAct))) #give test data \n",
    "print(ValDataAct.shape)\n",
    "print(ValData.shape)"
   ]
  },
  {
   "cell_type": "markdown",
   "metadata": {},
   "source": [
    "## Closed Form Solution [Finding Weights using Moore- Penrose pseudo- Inverse Matrix]"
   ]
  },
  {
   "cell_type": "code",
   "execution_count": 119,
   "metadata": {},
   "outputs": [],
   "source": [
    "ErmsArr = [] #define the Erms array\n",
    "AccuracyArr = [] #define accuracy array\n",
    "\n",
    "kmeans = KMeans(n_clusters=M, random_state=0).fit(np.transpose(TrainingData)) #calculate the clustering using KMeans\n",
    "Mu = kmeans.cluster_centers_  #calculate the Mu value\n",
    "\n",
    "BigSigma     = GenerateBigSigma(RawData, Mu, TrainingPercent,IsSynthetic) #calculate the BigSigma value\n",
    "TRAINING_PHI = GetPhiMatrix(RawData, Mu, BigSigma, TrainingPercent) #calculate the traning phi value\n",
    "W            = GetWeightsClosedForm(TRAINING_PHI,TrainingTarget,(C_Lambda)) #calculate the regularizer value\n",
    "TEST_PHI     = GetPhiMatrix(TestData, Mu, BigSigma, 100) #get the Test phi value\n",
    "VAL_PHI      = GetPhiMatrix(ValData, Mu, BigSigma, 100) #get the val phi value"
   ]
  },
  {
   "cell_type": "code",
   "execution_count": 120,
   "metadata": {},
   "outputs": [
    {
     "name": "stdout",
     "output_type": "stream",
     "text": [
      "(10, 41)\n",
      "(41, 41)\n",
      "(55699, 10)\n",
      "(10,)\n",
      "(6962, 10)\n",
      "(6961, 10)\n"
     ]
    }
   ],
   "source": [
    "print(Mu.shape)\n",
    "print(BigSigma.shape)\n",
    "print(TRAINING_PHI.shape)\n",
    "print(W.shape)\n",
    "print(VAL_PHI.shape)\n",
    "print(TEST_PHI.shape)"
   ]
  },
  {
   "cell_type": "markdown",
   "metadata": {},
   "source": [
    "## Finding Erms on training, validation and test set "
   ]
  },
  {
   "cell_type": "code",
   "execution_count": 121,
   "metadata": {},
   "outputs": [],
   "source": [
    "TR_TEST_OUT  = GetValTest(TRAINING_PHI,W) \n",
    "VAL_TEST_OUT = GetValTest(VAL_PHI,W)\n",
    "TEST_OUT     = GetValTest(TEST_PHI,W)\n",
    "\n",
    "TrainingAccuracy   = str(GetErms(TR_TEST_OUT,TrainingTarget)) #get erms of training data accuracy\n",
    "ValidationAccuracy = str(GetErms(VAL_TEST_OUT,ValDataAct)) #get erms of validation data accuracy\n",
    "TestAccuracy       = str(GetErms(TEST_OUT,TestDataAct)) #get erms of test data accuracy\n"
   ]
  },
  {
   "cell_type": "code",
   "execution_count": 122,
   "metadata": {},
   "outputs": [
    {
     "name": "stdout",
     "output_type": "stream",
     "text": [
      "UBITname      = nabhyank\n",
      "Person Number = 50290958\n",
      "----------------------------------------------------\n",
      "------------------LeToR Data------------------------\n",
      "----------------------------------------------------\n",
      "-------Closed Form with Radial Basis Function-------\n",
      "----------------------------------------------------\n",
      "M = 10\n",
      "Lambda = 0.03\n",
      "E_rms Training   = 0.5494694067137554\n",
      "Traning Accuracy   = 73.92233253738846\n",
      "E_rms Validation = 0.5384281741389065\n",
      "Validation Accuracy   = 74.6768170066073\n",
      "E_rms Testing    = 0.6279788453858294\n",
      "Testing Accuracy   = 69.87501795719005\n"
     ]
    }
   ],
   "source": [
    "print ('UBITname      = nabhyank')\n",
    "print ('Person Number = 50290958')\n",
    "print ('----------------------------------------------------')\n",
    "print (\"------------------LeToR Data------------------------\")\n",
    "print ('----------------------------------------------------')\n",
    "print (\"-------Closed Form with Radial Basis Function-------\")\n",
    "print ('----------------------------------------------------')\n",
    "print (\"M = \" + str (M))\n",
    "print (\"Lambda = \" + str(C_Lambda))\n",
    "print (\"E_rms Training   = \" + str(float(TrainingAccuracy.split(',')[1])))\n",
    "print (\"Traning Accuracy   = \" + str(float(TrainingAccuracy.split(',')[0])))\n",
    "print (\"E_rms Validation = \" + str(float(ValidationAccuracy.split(',')[1])))\n",
    "print (\"Validation Accuracy   = \" + str(float(ValidationAccuracy.split(',')[0])))\n",
    "print (\"E_rms Testing    = \" + str(float(TestAccuracy.split(',')[1])))\n",
    "print (\"Testing Accuracy   = \" + str(float(TestAccuracy.split(',')[0])))"
   ]
  },
  {
   "cell_type": "markdown",
   "metadata": {},
   "source": [
    "## Gradient Descent solution for Linear Regression"
   ]
  },
  {
   "cell_type": "code",
   "execution_count": 123,
   "metadata": {},
   "outputs": [
    {
     "name": "stdout",
     "output_type": "stream",
     "text": [
      "----------------------------------------------------\n",
      "--------------Please Wait for 2 mins!----------------\n",
      "----------------------------------------------------\n"
     ]
    }
   ],
   "source": [
    "print ('----------------------------------------------------')\n",
    "print ('--------------Please Wait for 2 mins!----------------')\n",
    "print ('----------------------------------------------------')"
   ]
  },
  {
   "cell_type": "code",
   "execution_count": 124,
   "metadata": {},
   "outputs": [],
   "source": [
    "W_Now        = np.dot(220, W) #take the dot product to calculate W now \n",
    "La           = 2 #initialize Lambda to 2\n",
    "learningRate = 0.01 #set the learning rate to 0.01\n",
    "L_Erms_Val   = [] #define Erms value of validation data array\n",
    "L_Erms_Acc_Val   = [] #define Erms value of accuracy data array\n",
    "L_Erms_TR    = [] #define Erms value of training data array\n",
    "L_Erms_Acc_TR   = [] #define Erms value of accuracy data array\n",
    "L_Erms_Test  = [] #define Erms value of testing data array\n",
    "L_Erms_Acc_Test   = [] #define Erms value of accuracy data array\n",
    "W_Mat        = [] #define W\n",
    "\n",
    "for i in range(0,400): #iterate for range of 400\n",
    "    \n",
    "    #print ('---------Iteration: ' + str(i) + '--------------')\n",
    "    Delta_E_D     = -np.dot((TrainingTarget[i] - np.dot(np.transpose(W_Now),TRAINING_PHI[i])),TRAINING_PHI[i]) \n",
    "    #calculate change in E_D\n",
    "    La_Delta_E_W  = np.dot(La,W_Now) #calculate change in E_W dot product with lambda\n",
    "    Delta_E       = np.add(Delta_E_D,La_Delta_E_W) #calculate change in E    \n",
    "    Delta_W       = -np.dot(learningRate,Delta_E) #change in W is negative of dot product of learning rate and change in E  \n",
    "    W_T_Next      = W_Now + Delta_W #next W = current w + change in W\n",
    "    W_Now         = W_T_Next #update current W to next W where W is the weight\n",
    "    \n",
    "    #-----------------TrainingData Accuracy---------------------#\n",
    "    TR_TEST_OUT   = GetValTest(TRAINING_PHI,W_T_Next) \n",
    "    Erms_TR       = GetErms(TR_TEST_OUT,TrainingTarget) #calculate the erms training accuracy for all weights and phi values\n",
    "    L_Erms_TR.append(float(Erms_TR.split(',')[1])) #append the values acquired in above calculation\n",
    "    L_Erms_Acc_TR.append(float(Erms_TR.split(',')[0]))\n",
    "    #-----------------ValidationData Accuracy---------------------#\n",
    "    VAL_TEST_OUT  = GetValTest(VAL_PHI,W_T_Next) \n",
    "    Erms_Val      = GetErms(VAL_TEST_OUT,ValDataAct) \n",
    "    #calculate the erms validation accuracy for all values of testing set and actual data values\n",
    "    L_Erms_Val.append(float(Erms_Val.split(',')[1])) #append the values acquired in above calculation\n",
    "    L_Erms_Acc_Val.append(float(Erms_Val.split(',')[0]))\n",
    "    #-----------------TestingData Accuracy---------------------#\n",
    "    TEST_OUT      = GetValTest(TEST_PHI,W_T_Next) \n",
    "    Erms_Test = GetErms(TEST_OUT,TestDataAct) #calculate the erms testing accuracy \n",
    "    L_Erms_Test.append(float(Erms_Test.split(',')[1])) #append the values from above calculation\n",
    "    L_Erms_Acc_Test.append(float(Erms_Test.split(',')[0])) #append the values from above calculation"
   ]
  },
  {
   "cell_type": "code",
   "execution_count": 125,
   "metadata": {},
   "outputs": [
    {
     "name": "stdout",
     "output_type": "stream",
     "text": [
      "----------Gradient Descent Solution--------------------\n",
      "M = 10\n",
      "La = 2\n",
      "Learning Rate = 0.01\n",
      "E_rms Training   = 0.54964\n",
      "Traning Accuracy   = 74.52198\n",
      "E_rms Validation = 0.53846\n",
      "Validation Accuracy   = 75.25136\n",
      "E_rms Testing    = 0.62372\n",
      "Testing Accuracy   = 74.52198\n"
     ]
    },
    {
     "data": {
      "image/png": "[encoded data removed]",
      "text/plain": [
       "<Figure size 432x288 with 2 Axes>"
      ]
     },
     "metadata": {
      "needs_background": "light"
     },
     "output_type": "display_data"
    },
    {
     "data": {
      "image/png": "[encoded data removed]",
      "text/plain": [
       "<Figure size 432x288 with 2 Axes>"
      ]
     },
     "metadata": {
      "needs_background": "light"
     },
     "output_type": "display_data"
    },
    {
     "data": {
      "image/png": "[encoded data removed]",
      "text/plain": [
       "<Figure size 432x288 with 2 Axes>"
      ]
     },
     "metadata": {
      "needs_background": "light"
     },
     "output_type": "display_data"
    }
   ],
   "source": [
    "print ('----------Gradient Descent Solution--------------------')\n",
    "print (\"M = \"+ str (M))\n",
    "print (\"La = \"+ str(La))\n",
    "print (\"Learning Rate = \"+ str(learningRate))\n",
    "print (\"E_rms Training   = \" + str(np.around(min(L_Erms_TR),5)))\n",
    "print (\"Traning Accuracy   = \" + str(np.around(max(L_Erms_Acc_TR),5)))\n",
    "print (\"E_rms Validation = \" + str(np.around(min(L_Erms_Val),5)))\n",
    "print (\"Validation Accuracy   = \" + str(np.around(max(L_Erms_Acc_Val),5)))\n",
    "print (\"E_rms Testing    = \" + str(np.around(min(L_Erms_Test),5)))\n",
    "print (\"Testing Accuracy   = \" + str(np.around(max(L_Erms_Acc_TR),5)))\n",
    "\n",
    "plt.figure(1)\n",
    "plt.subplot(2,2,1)\n",
    "plt.plot(L_Erms_TR)\n",
    "plt.title('Training ERMS')\n",
    "plt.xlabel('Number of data points given:')\n",
    "\n",
    "plt.subplot(2,2,2)\n",
    "plt.plot(L_Erms_Acc_TR)\n",
    "plt.title('Training Accuracy')\n",
    "plt.xlabel('Number of data points given:')\n",
    "\n",
    "plt.figure(2)\n",
    "plt.subplot(2,2,1)\n",
    "plt.plot(L_Erms_Val)\n",
    "plt.title('Validation ERMS')\n",
    "plt.xlabel('Number of data points given:')\n",
    "\n",
    "plt.subplot(2,2,2)\n",
    "plt.plot(L_Erms_Acc_Val)\n",
    "plt.title('Validation Accuracy')\n",
    "plt.xlabel('Number of data points given:')\n",
    "\n",
    "plt.figure(3)\n",
    "plt.subplot(2,2,1)\n",
    "plt.plot(L_Erms_Test)\n",
    "plt.title('Testing ERMS')\n",
    "plt.xlabel('Number of data points given:')\n",
    "\n",
    "plt.subplot(2,2,2)\n",
    "plt.plot(L_Erms_Acc_Test)\n",
    "plt.title('Testing Accuracy')\n",
    "plt.xlabel('Number of data points given:')\n",
    "\n",
    "plt.show()"
   ]
  },
  {
   "cell_type": "code",
   "execution_count": null,
   "metadata": {},
   "outputs": [],
   "source": []
  }
 ],
 "metadata": {
  "kernelspec": {
   "display_name": "Python 3",
   "language": "python",
   "name": "python3"
  },
  "language_info": {
   "codemirror_mode": {
    "name": "ipython",
    "version": 3
   },
   "file_extension": ".py",
   "mimetype": "text/x-python",
   "name": "python",
   "nbconvert_exporter": "python",
   "pygments_lexer": "ipython3",
   "version": "3.5.6"
  }
 },
 "nbformat": 4,
 "nbformat_minor": 2
}
