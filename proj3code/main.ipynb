{
 "cells": [
  {
   "cell_type": "markdown",
   "metadata": {},
   "source": [
    "## Import Necessary Libraries : "
   ]
  },
  {
   "cell_type": "code",
   "execution_count": 354,
   "metadata": {},
   "outputs": [],
   "source": [
    "import pickle\n",
    "import gzip\n",
    "import csv\n",
    "import numpy as np\n",
    "from sklearn.svm import SVC\n",
    "from sklearn.ensemble import RandomForestClassifier\n",
    "from PIL import Image\n",
    "import os\n",
    "import numpy as np\n",
    "from matplotlib import pyplot as plt \n",
    "from sklearn import metrics\n",
    "import pandas as pd\n",
    "import matplotlib.pyplot as plt\n",
    "from sklearn import svm, datasets\n",
    "from sklearn.metrics import confusion_matrix\n",
    "import matplotlib.pyplot as plt\n",
    "import scipy.sparse"
   ]
  },
  {
   "cell_type": "markdown",
   "metadata": {},
   "source": [
    "## MNIST Data Pre-Processing : "
   ]
  },
  {
   "cell_type": "code",
   "execution_count": 369,
   "metadata": {},
   "outputs": [],
   "source": [
    "def MnistData():\n",
    "    filename = 'mnist.pkl.gz'\n",
    "    f = gzip.open(filename, 'rb')\n",
    "    training_data, validation_data, test_data = pickle.load(f, encoding='latin1')\n",
    "    f.close()\n",
    "    return training_data, validation_data, test_data"
   ]
  },
  {
   "cell_type": "markdown",
   "metadata": {},
   "source": [
    "## USPS Data Pre-Processing : "
   ]
  },
  {
   "cell_type": "code",
   "execution_count": 370,
   "metadata": {},
   "outputs": [],
   "source": [
    "USPSMat  = []\n",
    "USPSTar  = []\n",
    "curPath  = 'USPSdata/Numerals'\n",
    "savedImg = []\n",
    "\n",
    "for j in range(0,10):\n",
    "    curFolderPath = curPath + '/' + str(j)\n",
    "    imgs =  os.listdir(curFolderPath)\n",
    "    for img in imgs:\n",
    "        curImg = curFolderPath + '/' + img\n",
    "        if curImg[-3:] == 'png':\n",
    "            img = Image.open(curImg,'r')\n",
    "            img = img.resize((28, 28))\n",
    "            savedImg = img\n",
    "            imgdata = (255-np.array(img.getdata()))/255\n",
    "            USPSMat.append(imgdata)\n",
    "            USPSTar.append(j)\n",
    "USPS_data = np.asarray(USPSMat)\n",
    "USPS_target = np.asarray(USPSTar)"
   ]
  },
  {
   "cell_type": "code",
   "execution_count": 371,
   "metadata": {},
   "outputs": [],
   "source": [
    "X_USPS_Test, y_USPS_Test = USPS_data, USPS_target\n"
   ]
  },
  {
   "cell_type": "code",
   "execution_count": 372,
   "metadata": {},
   "outputs": [],
   "source": [
    "training_data, validation_data, test_data = MnistData()\n",
    "X_train = training_data[0]\n",
    "y_train = training_data[1]\n",
    "X_test = test_data[0]\n",
    "y_test = test_data[1]"
   ]
  },
  {
   "cell_type": "code",
   "execution_count": 373,
   "metadata": {},
   "outputs": [],
   "source": [
    "X_val = validation_data[0]\n",
    "Y_val = validation_data[1]"
   ]
  },
  {
   "cell_type": "markdown",
   "metadata": {},
   "source": [
    "## Neural Network : "
   ]
  },
  {
   "cell_type": "code",
   "execution_count": 360,
   "metadata": {},
   "outputs": [],
   "source": [
    "import keras\n",
    "from keras.datasets import mnist\n",
    "from keras.layers import Dense\n",
    "from keras.models import Sequential\n",
    "\n",
    "num_classes=10\n",
    "image_vector_size=28*28\n",
    "\n",
    "y_train = keras.utils.to_categorical(y_train, num_classes)\n",
    "y_test = keras.utils.to_categorical(y_test, num_classes)\n",
    "Y_val = keras.utils.to_categorical(Y_val, num_classes)\n",
    "\n",
    "image_size = 784 \n",
    "model = Sequential()\n",
    "model.add(Dense(units=32, activation='sigmoid', input_shape=(image_size,)))\n",
    "model.add(Dense(units=num_classes, activation='softmax'))\n",
    "model.compile(optimizer='sgd', loss='categorical_crossentropy',metrics=['accuracy'])\n",
    "history = model.fit(X_train, y_train, batch_size=128, epochs=30,verbose=False,validation_data=(X_val, Y_val))\n"
   ]
  },
  {
   "cell_type": "markdown",
   "metadata": {},
   "source": [
    "## Accuracy & Loss For DNN : "
   ]
  },
  {
   "cell_type": "code",
   "execution_count": 361,
   "metadata": {},
   "outputs": [
    {
     "name": "stdout",
     "output_type": "stream",
     "text": [
      "Accuracy For MNIST-Training Data :  89.338\n",
      "Loss For MNIST-Training Data :  40.61590757036209\n"
     ]
    }
   ],
   "source": [
    "loss,accuracy = model.evaluate(X_train, y_train, verbose=False)\n",
    "print(\"Accuracy For MNIST-Training Data : \", accuracy*100)\n",
    "\n",
    "print(\"Loss For MNIST-Training Data : \", loss*100)\n"
   ]
  },
  {
   "cell_type": "code",
   "execution_count": 362,
   "metadata": {},
   "outputs": [
    {
     "name": "stdout",
     "output_type": "stream",
     "text": [
      "Accuracy For MNIST-Test Data :  89.79\n",
      "Loss For MNIST-Test Data :  38.67188055753708\n"
     ]
    }
   ],
   "source": [
    "loss,accuracy = model.evaluate(X_test, y_test, verbose=False)\n",
    "print(\"Accuracy For MNIST-Test Data : \", accuracy*100)\n",
    "\n",
    "print(\"Loss For MNIST-Test Data : \", loss*100)"
   ]
  },
  {
   "cell_type": "code",
   "execution_count": 363,
   "metadata": {},
   "outputs": [
    {
     "name": "stdout",
     "output_type": "stream",
     "text": [
      "Accuracy For MNIST-Validation Data :  90.25\n",
      "Loss For MNIST-Validation Data :  37.42055241346359\n"
     ]
    }
   ],
   "source": [
    "loss,accuracy = model.evaluate(X_val, Y_val, verbose=False)\n",
    "print(\"Accuracy For MNIST-Validation Data : \", accuracy*100)\n",
    "\n",
    "print(\"Loss For MNIST-Validation Data : \", loss*100)"
   ]
  },
  {
   "cell_type": "code",
   "execution_count": 364,
   "metadata": {},
   "outputs": [
    {
     "name": "stdout",
     "output_type": "stream",
     "text": [
      "Accuracy For USPS-Test Data :  35.946797339717975\n",
      "Loss For USPS-Test Data :  223.53427700176437\n"
     ]
    }
   ],
   "source": [
    "Y_USPS_Test = keras.utils.to_categorical(y_USPS_Test, num_classes)\n",
    "\n",
    "loss,accuracy = model.evaluate(X_USPS_Test, Y_USPS_Test, verbose=False)\n",
    "print(\"Accuracy For USPS-Test Data : \", accuracy*100)\n",
    "\n",
    "print(\"Loss For USPS-Test Data : \", loss*100)"
   ]
  },
  {
   "cell_type": "markdown",
   "metadata": {},
   "source": [
    "## Prediction Variables for Confusion Matrix : "
   ]
  },
  {
   "cell_type": "code",
   "execution_count": 365,
   "metadata": {},
   "outputs": [],
   "source": [
    "Y_Train_P = model.predict(X_train, verbose = 0)\n",
    "Y_Test_P = model.predict(X_test, verbose = 0)\n",
    "Y_Val_P = model.predict(X_val, verbose = 0)\n",
    "UPSPS_P1 = model.predict(X_USPS_Test, verbose = 0)\n",
    "\n",
    "Y_Train_P= Y_Train_P.argmax(1)\n",
    "Y_Test_P= Y_Test_P.argmax(1)\n",
    "Y_val_pred = Y_Val_P.argmax(1)\n",
    "UPSPS_P = UPSPS_P1.argmax(1)"
   ]
  },
  {
   "cell_type": "markdown",
   "metadata": {},
   "source": [
    "## Save Data in .csv for Later Use : "
   ]
  },
  {
   "cell_type": "code",
   "execution_count": 366,
   "metadata": {},
   "outputs": [],
   "source": [
    "np.savetxt('NN_MNIST_Train.csv',Y_Train_P, delimiter=\",\")\n",
    "np.savetxt('NN_MNIST_Test.csv',Y_Test_P, delimiter=\",\")\n",
    "np.savetxt('NN_MNIST_Val.csv',Y_val_pred, delimiter=\",\")\n",
    "np.savetxt('NN_USPS.csv',UPSPS_P, delimiter=\",\")"
   ]
  },
  {
   "cell_type": "markdown",
   "metadata": {},
   "source": [
    "## SVM Package :"
   ]
  },
  {
   "cell_type": "code",
   "execution_count": 374,
   "metadata": {},
   "outputs": [
    {
     "name": "stderr",
     "output_type": "stream",
     "text": [
      "C:\\Users\\NEERAJ\\AppData\\Local\\conda\\conda\\envs\\tensorflow\\lib\\site-packages\\sklearn\\svm\\base.py:244: ConvergenceWarning: Solver terminated early (max_iter=100).  Consider pre-processing your data with StandardScaler or MinMaxScaler.\n",
      "  % self.max_iter, ConvergenceWarning)\n"
     ]
    },
    {
     "name": "stdout",
     "output_type": "stream",
     "text": [
      "0.9818\n"
     ]
    }
   ],
   "source": [
    "# SVM\n",
    "\n",
    "classifier1 = SVC(kernel='rbf', C=2, gamma = 0.05, max_iter = 100);\n",
    "classifier1.fit(X_train, y_train)\n",
    "print (classifier1.score(X_train, y_train))\n"
   ]
  },
  {
   "cell_type": "code",
   "execution_count": 375,
   "metadata": {},
   "outputs": [
    {
     "name": "stdout",
     "output_type": "stream",
     "text": [
      "0.9656\n"
     ]
    }
   ],
   "source": [
    "print (classifier1.score(X_test, y_test))"
   ]
  },
  {
   "cell_type": "markdown",
   "metadata": {},
   "source": [
    "## Confusion Matrix For Validation : "
   ]
  },
  {
   "cell_type": "code",
   "execution_count": 376,
   "metadata": {},
   "outputs": [
    {
     "name": "stdout",
     "output_type": "stream",
     "text": [
      "Accuracy: 0.9652 for Validation\n",
      "[[ 980    0    3    3    0    0    2    0    2    1]\n",
      " [   0 1057    1    0    0    0    2    2    2    0]\n",
      " [   2    1  976    5    1    0    0    2    3    0]\n",
      " [   0    0    6 1004    0   12    0    1    6    1]\n",
      " [   0    6    1    0  966    0    0    2    1    7]\n",
      " [   3    0    2   23    2  868    7    2    7    1]\n",
      " [   3    0    1    0    1    1  959    0    2    0]\n",
      " [   0    6    4    2    7    0    0 1064    0    7]\n",
      " [   7    1    8   37    2    9    1    2  938    4]\n",
      " [   8    3    6   12   68    7    0   15    2  840]]\n"
     ]
    },
    {
     "data": {
      "image/png": "[encoded data removed]",
      "text/plain": [
       "<Figure size 288x288 with 2 Axes>"
      ]
     },
     "metadata": {
      "needs_background": "light"
     },
     "output_type": "display_data"
    }
   ],
   "source": [
    "predicted_val = classifier1.predict(X_val)\n",
    "print(\"Accuracy: %0.4f for Validation\" % metrics.accuracy_score(Y_val, predicted_val))\n",
    "\n",
    "cm = confusion_matrix(Y_val, predicted_val)\n",
    "\n",
    "print(cm)\n",
    "\n",
    "# Show confusion matrix in a separate window\n",
    "plt.matshow(cm)\n",
    "plt.title('Confusion matrix For Validation : ')\n",
    "plt.colorbar()\n",
    "plt.ylabel('True label')\n",
    "plt.xlabel('Predicted label')\n",
    "plt.show()"
   ]
  },
  {
   "cell_type": "markdown",
   "metadata": {},
   "source": [
    "## Confusion Matrix For Testing : "
   ]
  },
  {
   "cell_type": "code",
   "execution_count": 377,
   "metadata": {},
   "outputs": [
    {
     "name": "stdout",
     "output_type": "stream",
     "text": [
      "Accuracy: 0.9656 for Validation\n",
      "[[ 974    0    1    0    0    1    3    1    0    0]\n",
      " [   0 1132    2    1    0    0    0    0    0    0]\n",
      " [   6    0 1012    6    2    0    1    3    2    0]\n",
      " [   0    0    7  986    1   11    0    3    2    0]\n",
      " [   1    0    3    0  965    0    2    0    3    8]\n",
      " [   2    0    0   22    1  860    2    0    2    3]\n",
      " [   9    2    1    0    3    4  936    0    3    0]\n",
      " [   1    8   16    2    7    0    0  986    1    7]\n",
      " [   3    0    6   37    2    3    3    5  913    2]\n",
      " [   7    3    6   14   56    5    0   20    6  892]]\n"
     ]
    },
    {
     "data": {
      "image/png": "[encoded data removed]",
      "text/plain": [
       "<Figure size 288x288 with 2 Axes>"
      ]
     },
     "metadata": {
      "needs_background": "light"
     },
     "output_type": "display_data"
    }
   ],
   "source": [
    "predicted_test = classifier1.predict(X_test)\n",
    "print(\"Accuracy: %0.4f for Validation\" % metrics.accuracy_score(y_test, predicted_test))\n",
    "\n",
    "cm = confusion_matrix(y_test, predicted_test)\n",
    "\n",
    "print(cm)\n",
    "\n",
    "# Show confusion matrix in a separate window\n",
    "plt.matshow(cm)\n",
    "plt.title('Confusion matrix For Test : ')\n",
    "plt.colorbar()\n",
    "plt.ylabel('True label')\n",
    "plt.xlabel('Predicted label')\n",
    "plt.show()"
   ]
  },
  {
   "cell_type": "markdown",
   "metadata": {},
   "source": [
    "## Confusion Matrix For Training : "
   ]
  },
  {
   "cell_type": "code",
   "execution_count": 378,
   "metadata": {},
   "outputs": [
    {
     "name": "stdout",
     "output_type": "stream",
     "text": [
      "Accuracy: 0.9818 for Validation\n",
      "[[4932    0    0    0    0    0    0    0    0    0]\n",
      " [   0 5678    0    0    0    0    0    0    0    0]\n",
      " [   6    2 4951    9    0    0    0    0    0    0]\n",
      " [   1    0   10 5074    0   14    0    1    1    0]\n",
      " [   0    0    0    0 4853    0    0    0    0    6]\n",
      " [   2    0    1   36    0 4466    0    0    1    0]\n",
      " [   0    0    0    0    0    0 4951    0    0    0]\n",
      " [   6    1    9    0   33    1    0 5103    0   22]\n",
      " [  24    1   51  153    5   25    3    1 4579    0]\n",
      " [  34    1   16   33  315   17    0   55   14 4503]]\n"
     ]
    },
    {
     "data": {
      "image/png": "[encoded data removed]",
      "text/plain": [
       "<Figure size 288x288 with 2 Axes>"
      ]
     },
     "metadata": {
      "needs_background": "light"
     },
     "output_type": "display_data"
    }
   ],
   "source": [
    "predicted_train = classifier1.predict(X_train)\n",
    "print(\"Accuracy: %0.4f for Validation\" % metrics.accuracy_score(y_train, predicted_train))\n",
    "\n",
    "cm = confusion_matrix(y_train, predicted_train)\n",
    "\n",
    "print(cm)\n",
    "\n",
    "# Show confusion matrix in a separate window\n",
    "plt.matshow(cm)\n",
    "plt.title('Confusion matrix For Train : ')\n",
    "plt.colorbar()\n",
    "plt.ylabel('True label')\n",
    "plt.xlabel('Predicted label')\n",
    "plt.show()"
   ]
  },
  {
   "cell_type": "markdown",
   "metadata": {},
   "source": [
    "## Confusion Matrix For USPS- Testing : "
   ]
  },
  {
   "cell_type": "code",
   "execution_count": 379,
   "metadata": {},
   "outputs": [
    {
     "name": "stdout",
     "output_type": "stream",
     "text": [
      "Accuracy: 0.3474 for Validation\n",
      "[[ 613    0 1052   41  148   56   16    7    7   60]\n",
      " [ 118  437  384  175  181   87   17  562   31    8]\n",
      " [  78    0 1782   78    9   28    5   13    6    0]\n",
      " [  29    1  524 1345    0   95    0    3    2    1]\n",
      " [  56    2  603   76  909  161    5  139   35   14]\n",
      " [ 107    0  866  166    5  835    2    1   17    1]\n",
      " [ 304    0 1037   36   43   68  506    0    4    2]\n",
      " [  73   43  987  309   17  153   10  389   15    4]\n",
      " [ 123    0 1010  385   22  373    3    3   79    2]\n",
      " [  31    1  997  436  152   67    0  211   52   53]]\n"
     ]
    },
    {
     "data": {
      "image/png": "[encoded data removed]",
      "text/plain": [
       "<Figure size 288x288 with 2 Axes>"
      ]
     },
     "metadata": {
      "needs_background": "light"
     },
     "output_type": "display_data"
    }
   ],
   "source": [
    "predicted_USPS = classifier1.predict(X_USPS_Test)\n",
    "print(\"Accuracy: %0.4f for Validation\" % metrics.accuracy_score(y_USPS_Test, predicted_USPS))\n",
    "\n",
    "cm = confusion_matrix(y_USPS_Test, predicted_USPS)\n",
    "\n",
    "print(cm)\n",
    "\n",
    "# Show confusion matrix in a separate window\n",
    "plt.matshow(cm)\n",
    "plt.title('Confusion matrix For USPS :')\n",
    "plt.colorbar()\n",
    "plt.ylabel('True label')\n",
    "plt.xlabel('Predicted label')\n",
    "plt.show()"
   ]
  },
  {
   "cell_type": "code",
   "execution_count": 380,
   "metadata": {},
   "outputs": [],
   "source": [
    "np.savetxt('SVM_MNIST_Val.csv',predicted_val, delimiter=\",\")\n",
    "np.savetxt('SVM_MNIST_Test.csv',predicted_test, delimiter=\",\")\n",
    "np.savetxt('SVM_MNIST_Train.csv',predicted_train, delimiter=\",\")\n",
    "np.savetxt('SVM_USPS.csv',predicted_USPS, delimiter=\",\")"
   ]
  },
  {
   "cell_type": "markdown",
   "metadata": {},
   "source": [
    "## Random Forest  MNIST Package : "
   ]
  },
  {
   "cell_type": "code",
   "execution_count": 323,
   "metadata": {},
   "outputs": [
    {
     "name": "stdout",
     "output_type": "stream",
     "text": [
      "95.91\n"
     ]
    }
   ],
   "source": [
    "#RandomForestClassifier\n",
    "classifier2 = RandomForestClassifier(n_estimators=20);\n",
    "classifier2.fit(X_train, y_train)\n",
    "print(classifier2.score(X_test, y_test)*100)"
   ]
  },
  {
   "cell_type": "markdown",
   "metadata": {},
   "source": [
    "## Confusion Matrix For Validation : "
   ]
  },
  {
   "cell_type": "code",
   "execution_count": 324,
   "metadata": {},
   "outputs": [
    {
     "name": "stdout",
     "output_type": "stream",
     "text": [
      "Accuracy: 0.9640 for Validation\n",
      "[[ 978    0    3    4    2    0    1    0    3    0]\n",
      " [   0 1053    5    2    1    2    0    1    0    0]\n",
      " [   2    2  961    5    5    0    3    4    6    2]\n",
      " [   2    1    8  987    0   13    0    5   11    3]\n",
      " [   2    6    4    0  946    1    1    1    2   20]\n",
      " [   9    0    6   14    4  862    9    1    7    3]\n",
      " [   2    1    1    0    4    3  954    0    2    0]\n",
      " [   1    6   10    2    3    0    0 1054    1   13]\n",
      " [   5    5   10   14    3   11    5    3  944    9]\n",
      " [   5    3    2   12   17    4    0   13    4  901]]\n"
     ]
    },
    {
     "data": {
      "image/png": "[encoded data removed]",
      "text/plain": [
       "<Figure size 288x288 with 2 Axes>"
      ]
     },
     "metadata": {
      "needs_background": "light"
     },
     "output_type": "display_data"
    }
   ],
   "source": [
    "predicted_val = classifier2.predict(X_val)\n",
    "print(\"Accuracy: %0.4f for Validation\" % metrics.accuracy_score(Y_val, predicted_val))\n",
    "\n",
    "cm = confusion_matrix(Y_val, predicted_val)\n",
    "\n",
    "print(cm)\n",
    "\n",
    "# Show confusion matrix in a separate window\n",
    "plt.matshow(cm)\n",
    "plt.title('Confusion matrix For Validation : ')\n",
    "plt.colorbar()\n",
    "plt.ylabel('True label')\n",
    "plt.xlabel('Predicted label')\n",
    "plt.show()"
   ]
  },
  {
   "cell_type": "markdown",
   "metadata": {},
   "source": [
    "## Confusion Matrix For Testing : "
   ]
  },
  {
   "cell_type": "code",
   "execution_count": 325,
   "metadata": {},
   "outputs": [
    {
     "name": "stdout",
     "output_type": "stream",
     "text": [
      "Accuracy: 0.9591 for Validation\n",
      "[[ 972    0    1    0    2    1    1    2    1    0]\n",
      " [   0 1126    1    3    0    2    2    0    1    0]\n",
      " [   8    1  991    5    3    1    4    9    9    1]\n",
      " [   2    0   17  957    0   12    0    9   10    3]\n",
      " [   1    0    3    2  946    0    5    0    3   22]\n",
      " [   7    2    2   20    5  833   10    2   10    1]\n",
      " [   6    3    1    1    6    8  927    0    6    0]\n",
      " [   2    7   16    3    3    0    0  980    3   14]\n",
      " [   5    0    8   17    4    7    7    5  909   12]\n",
      " [   6    5    2   10   12    7    0    6   11  950]]\n"
     ]
    },
    {
     "data": {
      "image/png": "[encoded data removed]",
      "text/plain": [
       "<Figure size 288x288 with 2 Axes>"
      ]
     },
     "metadata": {
      "needs_background": "light"
     },
     "output_type": "display_data"
    }
   ],
   "source": [
    "predicted_test = classifier2.predict(X_test)\n",
    "print(\"Accuracy: %0.4f for Validation\" % metrics.accuracy_score(y_test, predicted_test))\n",
    "\n",
    "cm = confusion_matrix(y_test, predicted_test)\n",
    "\n",
    "print(cm)\n",
    "\n",
    "# Show confusion matrix in a separate window\n",
    "plt.matshow(cm)\n",
    "plt.title('Confusion matrix For Test : ')\n",
    "plt.colorbar()\n",
    "plt.ylabel('True label')\n",
    "plt.xlabel('Predicted label')\n",
    "plt.show()"
   ]
  },
  {
   "cell_type": "markdown",
   "metadata": {},
   "source": [
    "## Confusion Matrix For Training : "
   ]
  },
  {
   "cell_type": "code",
   "execution_count": 326,
   "metadata": {},
   "outputs": [
    {
     "name": "stdout",
     "output_type": "stream",
     "text": [
      "Accuracy: 0.9999 for Validation\n",
      "[[4932    0    0    0    0    0    0    0    0    0]\n",
      " [   0 5677    1    0    0    0    0    0    0    0]\n",
      " [   0    0 4968    0    0    0    0    0    0    0]\n",
      " [   0    0    0 5101    0    0    0    0    0    0]\n",
      " [   0    0    0    0 4859    0    0    0    0    0]\n",
      " [   1    0    0    1    0 4504    0    0    0    0]\n",
      " [   0    0    0    0    0    0 4951    0    0    0]\n",
      " [   0    0    0    0    0    0    0 5175    0    0]\n",
      " [   0    0    0    0    0    0    0    0 4842    0]\n",
      " [   0    0    0    0    0    0    0    1    0 4987]]\n"
     ]
    },
    {
     "data": {
      "image/png": "[encoded data removed]",
      "text/plain": [
       "<Figure size 288x288 with 2 Axes>"
      ]
     },
     "metadata": {
      "needs_background": "light"
     },
     "output_type": "display_data"
    }
   ],
   "source": [
    "predicted_train = classifier2.predict(X_train)\n",
    "print(\"Accuracy: %0.4f for Validation\" % metrics.accuracy_score(y_train, predicted_train))\n",
    "\n",
    "cm = confusion_matrix(y_train, predicted_train)\n",
    "\n",
    "print(cm)\n",
    "\n",
    "# Show confusion matrix in a separate window\n",
    "plt.matshow(cm)\n",
    "plt.title('Confusion matrix For Train : ')\n",
    "plt.colorbar()\n",
    "plt.ylabel('True label')\n",
    "plt.xlabel('Predicted label')\n",
    "plt.show()"
   ]
  },
  {
   "cell_type": "markdown",
   "metadata": {},
   "source": [
    "## Confusion Matrix For USPS- Testing : "
   ]
  },
  {
   "cell_type": "code",
   "execution_count": 327,
   "metadata": {},
   "outputs": [
    {
     "name": "stdout",
     "output_type": "stream",
     "text": [
      "Accuracy: 0.3367 for Validation\n",
      "[[ 556   36  269   74  388  147  115  165    9  241]\n",
      " [  27  573  124  123   60   80   21  971   20    1]\n",
      " [ 113   82 1036  124   66  212   47  295   15    9]\n",
      " [  55   34  161 1051   70  390   10  191   11   27]\n",
      " [  13  193   93   62  938  214   21  408   26   32]\n",
      " [ 166   43  186  235   62 1109   40  131   10   18]\n",
      " [ 347   84  296   57  137  289  610  141   12   27]\n",
      " [  39  328  381  300   53  226   41  613    8   11]\n",
      " [ 114   63  221  253  153  794   98  129  134   41]\n",
      " [  22  251  276  362  225  155   23  502   71  113]]\n"
     ]
    },
    {
     "data": {
      "image/png": "[encoded data removed]",
      "text/plain": [
       "<Figure size 288x288 with 2 Axes>"
      ]
     },
     "metadata": {
      "needs_background": "light"
     },
     "output_type": "display_data"
    }
   ],
   "source": [
    "predicted_USPS = classifier2.predict(X_USPS_Test)\n",
    "print(\"Accuracy: %0.4f for Validation\" % metrics.accuracy_score(y_USPS_Test, predicted_USPS))\n",
    "\n",
    "cm = confusion_matrix(y_USPS_Test, predicted_USPS)\n",
    "\n",
    "print(cm)\n",
    "\n",
    "# Show confusion matrix in a separate window\n",
    "plt.matshow(cm)\n",
    "plt.title('Confusion matrix For USPS :')\n",
    "plt.colorbar()\n",
    "plt.ylabel('True label')\n",
    "plt.xlabel('Predicted label')\n",
    "plt.show()"
   ]
  },
  {
   "cell_type": "code",
   "execution_count": 353,
   "metadata": {},
   "outputs": [],
   "source": [
    "np.savetxt('RF_MNIST_Val.csv',predicted_val, delimiter=\",\")\n",
    "np.savetxt('RF_MNIST_Test.csv',predicted_test, delimiter=\",\")\n",
    "np.savetxt('RF_MNIST_Train.csv',predicted_train, delimiter=\",\")\n",
    "np.savetxt('RF_USPS.csv',predicted_USPS, delimiter=\",\")"
   ]
  },
  {
   "cell_type": "markdown",
   "metadata": {},
   "source": [
    "## Logistic Regression : "
   ]
  },
  {
   "cell_type": "code",
   "execution_count": 381,
   "metadata": {},
   "outputs": [],
   "source": [
    "def softmax(z):\n",
    "    z -= np.max(z)\n",
    "    sm = (np.exp(z).T / np.sum(np.exp(z),axis=1)).T\n",
    "    return sm\n",
    "\n",
    "def Loss_Function(w,x,y,la):\n",
    "    a = X_train.shape[0] #Get Training Smaples\n",
    "    y_mat = onehot(y) #Convert to One Hot Vector \n",
    "    value = np.dot(x,w) #Compute value for raw data\n",
    "    P = softmax(value) #perform softmax\n",
    "    Loss = (-1 / a) * np.sum(y_mat * np.log(P)) + (la/2)*np.sum(w*w) #Compute Loss over Probabilities\n",
    "    Descent = (-1 / a) * np.dot(x.T,(y_mat - P)) + la*w #Compute Descent Over Loss\n",
    "    return Loss,Descent\n",
    "\n",
    "def Predictions(X):\n",
    "    P1 = softmax(np.dot(X,w))\n",
    "    P2 = np.argmax(P1,axis=1)\n",
    "    return P2\n",
    "\n",
    "def onehot(Y):\n",
    "    a = Y.shape[0]\n",
    "    oneY = scipy.sparse.csr_matrix((np.ones(a), (Y, np.array(range(a)))))\n",
    "    oneY = np.array(oneY.todense()).T\n",
    "    return oneY\n",
    "\n",
    "def getAccuracy(X,Y):\n",
    "    p2 = Predictions(X)\n",
    "    Accuracy = sum(p2 == Y)/(float(len(X)))\n",
    "    return Accuracy"
   ]
  },
  {
   "cell_type": "code",
   "execution_count": 382,
   "metadata": {},
   "outputs": [
    {
     "name": "stdout",
     "output_type": "stream",
     "text": [
      "Training Losses:  22.516582665713628\n"
     ]
    },
    {
     "data": {
      "text/plain": [
       "[<matplotlib.lines.Line2D at 0x188061cf128>]"
      ]
     },
     "execution_count": 382,
     "metadata": {},
     "output_type": "execute_result"
    },
    {
     "data": {
      "image/png": "[encoded data removed]",
      "text/plain": [
       "<Figure size 432x288 with 1 Axes>"
      ]
     },
     "metadata": {
      "needs_background": "light"
     },
     "output_type": "display_data"
    }
   ],
   "source": [
    "w = np.zeros([X_train.shape[1], 10])\n",
    "la = 10\n",
    "iter_max = 200\n",
    "LR = 1e-2\n",
    "Loss_max = []\n",
    "for i in range(0,iter_max):\n",
    "    Loss,Descent = Loss_Function(w,X_train,y_train,la)\n",
    "    Loss_max.append(Loss)\n",
    "    w = w - (LR * Descent)\n",
    "print ('Training Losses: ', Loss*10)    \n",
    "plt.plot(Loss_max)"
   ]
  },
  {
   "cell_type": "code",
   "execution_count": 383,
   "metadata": {},
   "outputs": [
    {
     "name": "stdout",
     "output_type": "stream",
     "text": [
      "Training Accuracy:  24.251212560628034\n"
     ]
    }
   ],
   "source": [
    "print ('Training Accuracy: ', getAccuracy(X_USPS_Test,y_USPS_Test)*100)\n"
   ]
  },
  {
   "cell_type": "code",
   "execution_count": 384,
   "metadata": {},
   "outputs": [
    {
     "ename": "NameError",
     "evalue": "name 'X_Val' is not defined",
     "output_type": "error",
     "traceback": [
      "\u001b[1;31m---------------------------------------------------------------------------\u001b[0m",
      "\u001b[1;31mNameError\u001b[0m                                 Traceback (most recent call last)",
      "\u001b[1;32m<ipython-input-384-c1685f46330b>\u001b[0m in \u001b[0;36m<module>\u001b[1;34m()\u001b[0m\n\u001b[0;32m      1\u001b[0m \u001b[0mY_train_pred\u001b[0m \u001b[1;33m=\u001b[0m \u001b[0mPredictions\u001b[0m\u001b[1;33m(\u001b[0m\u001b[0mX_train\u001b[0m\u001b[1;33m)\u001b[0m\u001b[1;33m\u001b[0m\u001b[0m\n\u001b[0;32m      2\u001b[0m \u001b[0mY_test_pred\u001b[0m \u001b[1;33m=\u001b[0m \u001b[0mPredictions\u001b[0m\u001b[1;33m(\u001b[0m\u001b[0mX_test\u001b[0m\u001b[1;33m)\u001b[0m\u001b[1;33m\u001b[0m\u001b[0m\n\u001b[1;32m----> 3\u001b[1;33m \u001b[0mY_val_pred\u001b[0m \u001b[1;33m=\u001b[0m \u001b[0mPredictions\u001b[0m\u001b[1;33m(\u001b[0m\u001b[0mX_Val\u001b[0m\u001b[1;33m)\u001b[0m\u001b[1;33m\u001b[0m\u001b[0m\n\u001b[0m\u001b[0;32m      4\u001b[0m \u001b[0mY_USPS_pred\u001b[0m \u001b[1;33m=\u001b[0m \u001b[0mPredictions\u001b[0m\u001b[1;33m(\u001b[0m\u001b[0mX_USPS_Test\u001b[0m\u001b[1;33m)\u001b[0m\u001b[1;33m\u001b[0m\u001b[0m\n",
      "\u001b[1;31mNameError\u001b[0m: name 'X_Val' is not defined"
     ]
    }
   ],
   "source": [
    "Y_train_pred = Predictions(X_train)\n",
    "Y_test_pred = Predictions(X_test)\n",
    "Y_val_pred = Predictions(X_Val)\n",
    "Y_USPS_pred = Predictions(X_USPS_Test)"
   ]
  },
  {
   "cell_type": "code",
   "execution_count": null,
   "metadata": {},
   "outputs": [],
   "source": [
    "np.savetxt('LR_MNIST_Val.csv',Y_val_pred, delimiter=\",\")\n",
    "np.savetxt('LR_MNIST_Test.csv',Y_test_pred, delimiter=\",\")\n",
    "np.savetxt('LR_MNIST_Train.csv',Y_train_pred, delimiter=\",\")\n",
    "np.savetxt('LR_USPS.csv',Y_USPS_pred, delimiter=\",\")"
   ]
  },
  {
   "cell_type": "code",
   "execution_count": null,
   "metadata": {},
   "outputs": [],
   "source": [
    "print ('UBITname      = nabhyank')\n",
    "print ('Person Number = 50290958')"
   ]
  },
  {
   "cell_type": "code",
   "execution_count": null,
   "metadata": {},
   "outputs": [],
   "source": []
  }
 ],
 "metadata": {
  "kernelspec": {
   "display_name": "Python 3",
   "language": "python",
   "name": "python3"
  },
  "language_info": {
   "codemirror_mode": {
    "name": "ipython",
    "version": 3
   },
   "file_extension": ".py",
   "mimetype": "text/x-python",
   "name": "python",
   "nbconvert_exporter": "python",
   "pygments_lexer": "ipython3",
   "version": "3.5.6"
  }
 },
 "nbformat": 4,
 "nbformat_minor": 2
}
